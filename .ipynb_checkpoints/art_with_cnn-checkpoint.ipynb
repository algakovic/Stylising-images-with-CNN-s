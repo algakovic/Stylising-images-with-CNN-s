{
 "cells": [
  {
   "cell_type": "markdown",
   "metadata": {},
   "source": [
    "# Artistic Stylisation Using CNN and VGG19"
   ]
  },
  {
   "cell_type": "markdown",
   "metadata": {},
   "source": [
    "## Contents\n",
    "1. Importing modules and image metadata"
   ]
  },
  {
   "cell_type": "code",
   "execution_count": 1,
   "metadata": {},
   "outputs": [],
   "source": [
    "# Import modules and image metadata\n",
    "\n",
    "import numpy as np\n",
    "\n",
    "from keras.preprocessing.image import load_img, img_to_array\n",
    "from keras import backend as K\n",
    "\n",
    "from keras.applications import vgg19\n",
    "\n",
    "\n",
    "target_image_path = './image_files/datasci-network.jpeg'\n",
    "reference_image_path = './image_files/star-citizen-banu-ship.jpg'\n",
    "\n",
    "\n",
    "width, height = load_img(target_image_path).size\n",
    "img_height = 800 # May need to adjust this to actual values.\n",
    "img_width = int(width * img_height / height)"
   ]
  },
  {
   "cell_type": "code",
   "execution_count": 2,
   "metadata": {},
   "outputs": [],
   "source": [
    "# define preprocessing functions for images to work with VGG19 network\n",
    "\n",
    "def preprocess_image(image_path):\n",
    "    img = load_img(image_path, target_size=(img_height, img_width))\n",
    "    img = img_to_array(img)\n",
    "    img = np.expand_dims(img, axis=0)\n",
    "    img  = vgg19.preprocess_input(img)\n",
    "    return img\n",
    "\n",
    "def preprocess_image(x):\n",
    "    x[:, :, 0] += 103.939\n",
    "    x[:, :, 1] += 116.779\n",
    "    x[:, :, 2] += 123.68\n",
    "    x = x[:, :, ::-1]\n",
    "    x = np.clip(x, 0, 255).astype('unit8')\n",
    "    return x"
   ]
  },
  {
   "cell_type": "code",
   "execution_count": null,
   "metadata": {},
   "outputs": [],
   "source": [
    "# Load up the pretraind VGG19 neural network and feed it our input tensors\n",
    "\n",
    "target_image = K.constant(preprocess_image(target_image_path))\n",
    "reference_image = K.constant(preprocess_image(reference_image_path))\n",
    "combination_image = K.placeholder((1, img_height, img_width, 3))\n",
    "\n",
    "input_tensor  = K.concatenate([target_image,\n",
    "                              reference_image,\n",
    "                              combination_image], axis=0)\n",
    "model = vgg19.BGG19(input_tensor=input_tensor, # Some hyperparameters to play around with here.\n",
    "                   weights='imagenet',\n",
    "                   include_top=False) "
   ]
  }
 ],
 "metadata": {
  "kernelspec": {
   "display_name": "learn-env",
   "language": "python",
   "name": "learn-env"
  },
  "language_info": {
   "codemirror_mode": {
    "name": "ipython",
    "version": 3
   },
   "file_extension": ".py",
   "mimetype": "text/x-python",
   "name": "python",
   "nbconvert_exporter": "python",
   "pygments_lexer": "ipython3",
   "version": "3.6.9"
  }
 },
 "nbformat": 4,
 "nbformat_minor": 4
}
